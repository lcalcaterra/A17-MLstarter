{
 "cells": [
  {
   "cell_type": "code",
   "execution_count": null,
   "id": "adjustable-hopkins",
   "metadata": {},
   "outputs": [],
   "source": [
    "import numpy as np\n",
    "import pandas as pd\n",
    "from sklearn.model_selection import train_test_split\n",
    "from sklearn.metrics import mean_squared_log_error\n",
    "from a17 import A17\n",
    "\n",
    "\n",
    "# DATASETS\n",
    "training = pd.read_csv(\"train.csv\", index_col = 0)\n",
    "classif = training.copy()"
   ]
  },
  {
   "cell_type": "code",
   "execution_count": null,
   "id": "hollow-timer",
   "metadata": {},
   "outputs": [],
   "source": [
    "# REGRESSION TASK\n",
    "X = training.drop('SalePrice', axis = 1)\n",
    "y = training['SalePrice']\n",
    "\n",
    "X_train, X_val, y_train, y_val = train_test_split(X, y, test_size = 0.33, random_state = 17)\n",
    "\n",
    "\n",
    "reg = A17(trials = 5)\n",
    "\n",
    "reg.fit(X_train, y_train)\n",
    "\n",
    "y_pred = reg.predict(X_val)\n",
    "\n",
    "print(np.sqrt(mean_squared_log_error(y_val, abs(y_pred)))) #RMSE_log"
   ]
  },
  {
   "cell_type": "code",
   "execution_count": null,
   "id": "worthy-journey",
   "metadata": {},
   "outputs": [],
   "source": [
    "# CLASSIFICATION TASK\n",
    "import random\n",
    "\n",
    "classif['class'] = 0\n",
    "i = 0\n",
    "for _ in range(0, classif.shape[0]):\n",
    "    classif['class'][i] = random.randint(0, 4)\n",
    "    i += 1\n",
    "\n",
    "\n",
    "X = classif.drop('class', axis = 1)\n",
    "y = classif['class']\n",
    "\n",
    "X_train, X_val, y_train, y_val = train_test_split(X, y, test_size = 0.33, random_state = 17)\n",
    "\n",
    "cl = A17(task = \"classification\", objective = \"multi:softmax\", trials = 5)\n",
    "\n",
    "cl.fit(X_train, y_train)\n",
    "\n",
    "y_pred_class = cl.predict(X_val)\n",
    "\n",
    "print(np.sqrt(mean_squared_log_error(y_val, abs(y_pred_class)))) #RMSE_log"
   ]
  }
 ],
 "metadata": {
  "kernelspec": {
   "display_name": "Python 3",
   "language": "python",
   "name": "python3"
  },
  "language_info": {
   "codemirror_mode": {
    "name": "ipython",
    "version": 3
   },
   "file_extension": ".py",
   "mimetype": "text/x-python",
   "name": "python",
   "nbconvert_exporter": "python",
   "pygments_lexer": "ipython3",
   "version": "3.7.7"
  }
 },
 "nbformat": 4,
 "nbformat_minor": 5
}
